{
 "cells": [
  {
   "cell_type": "code",
   "execution_count": 5,
   "metadata": {},
   "outputs": [],
   "source": [
    "import os\n",
    "import sys\n",
    "\n",
    "from glob import glob\n",
    "from typing import List, Tuple\n",
    "\n",
    "import numpy as np\n",
    "import xarray as xr\n",
    "import xcdat as xc\n",
    "import xskillscore as xscore\n",
    "\n",
    "# Personal Data Loader\n",
    "sys.path.append('../pipeline')\n",
    "from data_loader import DataLoader"
   ]
  },
  {
   "cell_type": "code",
   "execution_count": 6,
   "metadata": {},
   "outputs": [],
   "source": [
    "def era5_pressure_level(dataloader):\n",
    "    myvars = [\n",
    "        'geopotential', \n",
    "        'temperature', \n",
    "        'u_component_of_wind',\n",
    "        'v_component_of_wind',\n",
    "    ]\n",
    "    for cvar in myvars:\n",
    "        era5_data = dataloader.get_era5_data(\n",
    "            level=\"pressure\", \n",
    "            info={\n",
    "                \"vars\": [cvar],\n",
    "                \"years\": [str(yr) for yr in list(range(1979, 2023))],\n",
    "                \"months\": [\"01\", \"02\", \"03\", \"04\", \"05\", \"06\", \"07\", \"08\", \"09\", \"10\",\"11\", \"12\"],\n",
    "                \"area\":[90, -180, -90, 180],\n",
    "                \"time\":\"00:00\",\n",
    "                \"pressure_levels\": [\"1000\", \"500\"],\n",
    "                \"save_name\": f\"ERA5_monthly_1979-01_2023-12_plevels_{cvar}\"\n",
    "            }\n",
    "        )\n",
    "        print(era5_data)"
   ]
  },
  {
   "cell_type": "code",
   "execution_count": 7,
   "metadata": {},
   "outputs": [],
   "source": [
    "def era5_single_level(dataloader):\n",
    "    myvars = [\n",
    "        '10m_u_component_of_wind', \n",
    "        '10m_v_component_of_wind',\n",
    "        '10m_wind_speed',\n",
    "        '2m_temperature', \n",
    "        'mean_sea_level_pressure', \n",
    "        'sea_surface_temperature',\n",
    "    ]\n",
    "    for cvar in myvars:\n",
    "        era5_data = dataloader.get_era5_data(\n",
    "            level=\"single\", \n",
    "            info={\n",
    "                \"vars\": [cvar],\n",
    "                \"years\": [str(yr) for yr in list(range(1979, 2023))],\n",
    "                \"months\": [\"01\", \"02\", \"03\", \"04\", \"05\", \"06\", \"07\", \"08\", \"09\", \"10\",\"11\", \"12\"],\n",
    "                \"area\":[90, -180, -90, 180],\n",
    "                \"time\":\"00:00\",\n",
    "                \"save_name\": f\"ERA5_monthly_1979-01_2023-12_{cvar}\"\n",
    "            }\n",
    "        )\n",
    "        print(era5_data)\n"
   ]
  },
  {
   "cell_type": "code",
   "execution_count": 9,
   "metadata": {},
   "outputs": [],
   "source": [
    "dataloader = DataLoader(\n",
    "    root = [\n",
    "        \"/glade/campaign/univ/uwas0118/scratch/archive/1950_2015/\",\n",
    "        \"/glade/scratch/zespinosa/archive/cesm2.1.3_BHISTcmip6_f09_g17_ERA5_nudge/\", \n",
    "        \"/glade/scratch/zespinosa/archive/cesm2.1.3_BSSP370cmip6_f09_g17_ERA5_nudge/\"\n",
    "    ],\n",
    "    era5_root=\"/glade/work/zespinosa/data/era5/monthly\"\n",
    ")\n",
    "\n",
    "# Test ERA5\n",
    "# era5_single_level(dataloader)\n",
    "# era5_pressure_level(dataloader)\n"
   ]
  },
  {
   "cell_type": "code",
   "execution_count": null,
   "metadata": {},
   "outputs": [],
   "source": []
  }
 ],
 "metadata": {
  "kernelspec": {
   "display_name": "Python 3",
   "language": "python",
   "name": "python3"
  },
  "language_info": {
   "codemirror_mode": {
    "name": "ipython",
    "version": 3
   },
   "file_extension": ".py",
   "mimetype": "text/x-python",
   "name": "python",
   "nbconvert_exporter": "python",
   "pygments_lexer": "ipython3",
   "version": "3.8.13"
  }
 },
 "nbformat": 4,
 "nbformat_minor": 2
}
