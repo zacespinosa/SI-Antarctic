{
 "cells": [
  {
   "cell_type": "code",
   "execution_count": 1,
   "metadata": {},
   "outputs": [
    {
     "name": "stderr",
     "output_type": "stream",
     "text": [
      "/glade/work/zespinosa/conda-envs/cenv/lib/python3.8/site-packages/gribapi/__init__.py:23: UserWarning: ecCodes 2.31.0 or higher is recommended. You are running version 2.27.0\n",
      "  warnings.warn(\n"
     ]
    }
   ],
   "source": [
    "import os\n",
    "import sys\n",
    "\n",
    "from glob import glob\n",
    "from typing import List, Tuple\n",
    "\n",
    "import numpy as np\n",
    "import xarray as xr\n",
    "import xcdat as xc\n",
    "import xskillscore as xscore\n",
    "\n",
    "# Personal Data Loader\n",
    "sys.path.append('../pipeline')\n",
    "from data_loader import DataLoader\n",
    "from data_transformer import DataTransformer\n",
    "from run_dataloader import era5_single_level, era5_pressure_level"
   ]
  },
  {
   "cell_type": "code",
   "execution_count": 12,
   "metadata": {},
   "outputs": [],
   "source": [
    "REF_PERIOD = (\"1980-01-01\", \"2020-01-01\")\n",
    "TESTING = True\n",
    "SAVE = True"
   ]
  },
  {
   "cell_type": "code",
   "execution_count": 3,
   "metadata": {},
   "outputs": [],
   "source": [
    "dataloader = DataLoader(\n",
    "    root = [\n",
    "        \"/glade/campaign/univ/uwas0118/scratch/archive/1950_2015/\",\n",
    "        \"/glade/scratch/zespinosa/archive/cesm2.1.3_BHISTcmip6_f09_g17_ERA5_nudge/\", \n",
    "        \"/glade/scratch/zespinosa/archive/cesm2.1.3_BSSP370cmip6_f09_g17_ERA5_nudge/\"\n",
    "    ],\n",
    "    era5_root=\"/glade/work/zespinosa/data/era5/monthly\"\n",
    ")"
   ]
  },
  {
   "cell_type": "code",
   "execution_count": null,
   "metadata": {},
   "outputs": [],
   "source": [
    "era5_single = era5_single_level(dataloader)\n",
    "era5_pressure = era5_pressure_level(dataloader)"
   ]
  },
  {
   "cell_type": "code",
   "execution_count": 4,
   "metadata": {},
   "outputs": [],
   "source": [
    "datatransformer = DataTransformer(\n",
    "    save_path='/glade/work/zespinosa/Projects/SI-Antarctic/data'\n",
    ")"
   ]
  },
  {
   "cell_type": "code",
   "execution_count": 5,
   "metadata": {},
   "outputs": [
    {
     "name": "stdout",
     "output_type": "stream",
     "text": [
      "starting regrid\n"
     ]
    },
    {
     "name": "stdout",
     "output_type": "stream",
     "text": [
      "starting anomalies and climatology\n",
      "starting trends\n",
      "> \u001b[0;32m/glade/scratch/zespinosa/ipykernel_14321/4022574871.py\u001b[0m(21)\u001b[0;36mtransform_era5_data\u001b[0;34m()\u001b[0m\n",
      "\u001b[0;32m     19 \u001b[0;31m    \u001b[0mprint\u001b[0m\u001b[0;34m(\u001b[0m\u001b[0;34m\"starting trends\"\u001b[0m\u001b[0;34m)\u001b[0m\u001b[0;34m\u001b[0m\u001b[0;34m\u001b[0m\u001b[0m\n",
      "\u001b[0m\u001b[0;32m     20 \u001b[0;31m    \u001b[0;32mimport\u001b[0m \u001b[0mpdb\u001b[0m\u001b[0;34m;\u001b[0m \u001b[0mpdb\u001b[0m\u001b[0;34m.\u001b[0m\u001b[0mset_trace\u001b[0m\u001b[0;34m(\u001b[0m\u001b[0;34m)\u001b[0m\u001b[0;34m\u001b[0m\u001b[0;34m\u001b[0m\u001b[0m\n",
      "\u001b[0m\u001b[0;32m---> 21 \u001b[0;31m    era5_data_trends = datatransformer.calculate_linear_time_trend(\n",
      "\u001b[0m\u001b[0;32m     22 \u001b[0;31m        \u001b[0mds\u001b[0m\u001b[0;34m=\u001b[0m\u001b[0mera5_data\u001b[0m\u001b[0;34m.\u001b[0m\u001b[0mcopy\u001b[0m\u001b[0;34m(\u001b[0m\u001b[0;34m)\u001b[0m\u001b[0;34m,\u001b[0m\u001b[0;34m\u001b[0m\u001b[0;34m\u001b[0m\u001b[0m\n",
      "\u001b[0m\u001b[0;32m     23 \u001b[0;31m        \u001b[0msave\u001b[0m\u001b[0;34m=\u001b[0m\u001b[0;32mTrue\u001b[0m\u001b[0;34m,\u001b[0m\u001b[0;34m\u001b[0m\u001b[0;34m\u001b[0m\u001b[0m\n",
      "\u001b[0m\n",
      "starting regrid\n",
      "starting anomalies and climatology\n",
      "starting trends\n",
      "> \u001b[0;32m/glade/scratch/zespinosa/ipykernel_14321/4022574871.py\u001b[0m(21)\u001b[0;36mtransform_era5_data\u001b[0;34m()\u001b[0m\n",
      "\u001b[0;32m     19 \u001b[0;31m    \u001b[0mprint\u001b[0m\u001b[0;34m(\u001b[0m\u001b[0;34m\"starting trends\"\u001b[0m\u001b[0;34m)\u001b[0m\u001b[0;34m\u001b[0m\u001b[0;34m\u001b[0m\u001b[0m\n",
      "\u001b[0m\u001b[0;32m     20 \u001b[0;31m    \u001b[0;32mimport\u001b[0m \u001b[0mpdb\u001b[0m\u001b[0;34m;\u001b[0m \u001b[0mpdb\u001b[0m\u001b[0;34m.\u001b[0m\u001b[0mset_trace\u001b[0m\u001b[0;34m(\u001b[0m\u001b[0;34m)\u001b[0m\u001b[0;34m\u001b[0m\u001b[0;34m\u001b[0m\u001b[0m\n",
      "\u001b[0m\u001b[0;32m---> 21 \u001b[0;31m    era5_data_trends = datatransformer.calculate_linear_time_trend(\n",
      "\u001b[0m\u001b[0;32m     22 \u001b[0;31m        \u001b[0mds\u001b[0m\u001b[0;34m=\u001b[0m\u001b[0mera5_data\u001b[0m\u001b[0;34m.\u001b[0m\u001b[0mcopy\u001b[0m\u001b[0;34m(\u001b[0m\u001b[0;34m)\u001b[0m\u001b[0;34m,\u001b[0m\u001b[0;34m\u001b[0m\u001b[0;34m\u001b[0m\u001b[0m\n",
      "\u001b[0m\u001b[0;32m     23 \u001b[0;31m        \u001b[0msave\u001b[0m\u001b[0;34m=\u001b[0m\u001b[0;32mTrue\u001b[0m\u001b[0;34m,\u001b[0m\u001b[0;34m\u001b[0m\u001b[0;34m\u001b[0m\u001b[0m\n",
      "\u001b[0m\n"
     ]
    }
   ],
   "source": [
    "def transform_era5_data(era5_data, test, save, cvar):\n",
    "\n",
    "    if test: \n",
    "        era5_data = era5_data.sel(time=slice(\"1979-01-01\", \"1980-01-01\"))\n",
    "\n",
    "    # Regrid and save\n",
    "    print(\"starting regrid\")\n",
    "    era5_data = datatransformer.regrid(ds=era5_data, save=save, save_name=f\"ERA5_monthly_1979-01_2023-12_{cvar}\")\n",
    "\n",
    "    # Calculate anomalies and climatology\n",
    "    print(\"starting anomalies and climatology\")\n",
    "    era5_data_ac = datatransformer.calculate_anoms_climatology(\n",
    "        ds=era5_data.copy(),\n",
    "        ref_period=REF_PERIOD,\n",
    "        save_name=f\"ERA5_monthly_1979-01_2023-12_{cvar}\",\n",
    "        save=save,\n",
    "    )\n",
    "\n",
    "    print(\"starting trends\")\n",
    "    era5_data_trends = datatransformer.calculate_linear_time_trend(\n",
    "        ds=era5_data.copy(),\n",
    "        save=True,\n",
    "        save_name=f\"ERA5_monthly_1979-01_2023-12_{cvar}\",\n",
    "    )\n",
    "\n",
    "transform_era5_data(era5_single, test=False, save=True, cvar=\"full-single\")\n",
    "transform_era5_data(era5_pressure, test=False, save=True, cvar=\"full-pressure\")\n"
   ]
  },
  {
   "cell_type": "code",
   "execution_count": 15,
   "metadata": {},
   "outputs": [],
   "source": [
    "def transform_cesm2_data(ds, save, save_name, testing):\n",
    "    print(\"starting regrid\")\n",
    "    ds = datatransformer.regrid(\n",
    "        ds, \n",
    "        save=save, \n",
    "        save_name=save_name\n",
    "    )\n",
    "\n",
    "    print(\"starting anomalies and climatology\")\n",
    "    ds_ac = datatransformer.calculate_anoms_climatology(\n",
    "        ds, \n",
    "        ref_period=REF_PERIOD, \n",
    "        save=save, \n",
    "        save_name=save_name\n",
    "    )\n",
    "\n",
    "    print(\"starting trends\")\n",
    "    ds_trend = datatransformer.calculate_linear_time_trend(\n",
    "        ds, \n",
    "        save=save,\n",
    "        save_name=save_name\n",
    "    )\n"
   ]
  },
  {
   "cell_type": "code",
   "execution_count": 16,
   "metadata": {},
   "outputs": [
    {
     "name": "stdout",
     "output_type": "stream",
     "text": [
      "Loading ice data from 900 files...\n",
      "starting regrid\n"
     ]
    },
    {
     "name": "stderr",
     "output_type": "stream",
     "text": [
      "/glade/work/zespinosa/conda-envs/cenv/lib/python3.8/site-packages/xarray/conventions.py:450: UserWarning: Variable 'time' has datetime type and a bounds variable but time.encoding does not have units specified. The units encodings for 'time' and 'time_bnds' will be determined independently and may not be equal, counter to CF-conventions. If this is a concern, specify a units encoding for 'time' before writing to a file.\n",
      "  warnings.warn(\n"
     ]
    },
    {
     "name": "stdout",
     "output_type": "stream",
     "text": [
      "starting anomalies and climatology\n"
     ]
    },
    {
     "ename": "ValueError",
     "evalue": "month must not be empty",
     "output_type": "error",
     "traceback": [
      "\u001b[0;31m---------------------------------------------------------------------------\u001b[0m",
      "\u001b[0;31mValueError\u001b[0m                                Traceback (most recent call last)",
      "\u001b[1;32m/glade/work/zespinosa/Projects/SI-Antarctic/notebooks/run_datatransformer.ipynb Cell 8\u001b[0m line \u001b[0;36m<cell line: 7>\u001b[0;34m()\u001b[0m\n\u001b[1;32m      <a href='vscode-notebook-cell://ssh-remote%2Bcheyenne.ucar.edu/glade/work/zespinosa/Projects/SI-Antarctic/notebooks/run_datatransformer.ipynb#X15sdnNjb2RlLXJlbW90ZQ%3D%3D?line=0'>1</a>\u001b[0m ice_cesm2 \u001b[39m=\u001b[39m dataloader\u001b[39m.\u001b[39mget_cesm2_data(\n\u001b[1;32m      <a href='vscode-notebook-cell://ssh-remote%2Bcheyenne.ucar.edu/glade/work/zespinosa/Projects/SI-Antarctic/notebooks/run_datatransformer.ipynb#X15sdnNjb2RlLXJlbW90ZQ%3D%3D?line=1'>2</a>\u001b[0m     comp\u001b[39m=\u001b[39m\u001b[39m\"\u001b[39m\u001b[39mice\u001b[39m\u001b[39m\"\u001b[39m,\n\u001b[1;32m      <a href='vscode-notebook-cell://ssh-remote%2Bcheyenne.ucar.edu/glade/work/zespinosa/Projects/SI-Antarctic/notebooks/run_datatransformer.ipynb#X15sdnNjb2RlLXJlbW90ZQ%3D%3D?line=2'>3</a>\u001b[0m     myvars\u001b[39m=\u001b[39m[\u001b[39m\"\u001b[39m\u001b[39maice\u001b[39m\u001b[39m\"\u001b[39m, \u001b[39m\"\u001b[39m\u001b[39mdaidtt\u001b[39m\u001b[39m\"\u001b[39m, \u001b[39m\"\u001b[39m\u001b[39mdaidtd\u001b[39m\u001b[39m\"\u001b[39m, \u001b[39m\"\u001b[39m\u001b[39mdvidtt\u001b[39m\u001b[39m\"\u001b[39m, \u001b[39m\"\u001b[39m\u001b[39mdvidtd\u001b[39m\u001b[39m\"\u001b[39m, \u001b[39m\"\u001b[39m\u001b[39msithick\u001b[39m\u001b[39m\"\u001b[39m, \u001b[39m\"\u001b[39m\u001b[39muvel\u001b[39m\u001b[39m\"\u001b[39m, \u001b[39m\"\u001b[39m\u001b[39mvvel\u001b[39m\u001b[39m\"\u001b[39m],\n\u001b[1;32m      <a href='vscode-notebook-cell://ssh-remote%2Bcheyenne.ucar.edu/glade/work/zespinosa/Projects/SI-Antarctic/notebooks/run_datatransformer.ipynb#X15sdnNjb2RlLXJlbW90ZQ%3D%3D?line=3'>4</a>\u001b[0m     testing\u001b[39m=\u001b[39mTESTING,\n\u001b[1;32m      <a href='vscode-notebook-cell://ssh-remote%2Bcheyenne.ucar.edu/glade/work/zespinosa/Projects/SI-Antarctic/notebooks/run_datatransformer.ipynb#X15sdnNjb2RlLXJlbW90ZQ%3D%3D?line=4'>5</a>\u001b[0m )\n\u001b[0;32m----> <a href='vscode-notebook-cell://ssh-remote%2Bcheyenne.ucar.edu/glade/work/zespinosa/Projects/SI-Antarctic/notebooks/run_datatransformer.ipynb#X15sdnNjb2RlLXJlbW90ZQ%3D%3D?line=6'>7</a>\u001b[0m transform_cesm2_data(\n\u001b[1;32m      <a href='vscode-notebook-cell://ssh-remote%2Bcheyenne.ucar.edu/glade/work/zespinosa/Projects/SI-Antarctic/notebooks/run_datatransformer.ipynb#X15sdnNjb2RlLXJlbW90ZQ%3D%3D?line=7'>8</a>\u001b[0m     ds\u001b[39m=\u001b[39;49mice_cesm2,\n\u001b[1;32m      <a href='vscode-notebook-cell://ssh-remote%2Bcheyenne.ucar.edu/glade/work/zespinosa/Projects/SI-Antarctic/notebooks/run_datatransformer.ipynb#X15sdnNjb2RlLXJlbW90ZQ%3D%3D?line=8'>9</a>\u001b[0m     save\u001b[39m=\u001b[39;49mSAVE,\n\u001b[1;32m     <a href='vscode-notebook-cell://ssh-remote%2Bcheyenne.ucar.edu/glade/work/zespinosa/Projects/SI-Antarctic/notebooks/run_datatransformer.ipynb#X15sdnNjb2RlLXJlbW90ZQ%3D%3D?line=9'>10</a>\u001b[0m     testing\u001b[39m=\u001b[39;49mTESTING,\n\u001b[1;32m     <a href='vscode-notebook-cell://ssh-remote%2Bcheyenne.ucar.edu/glade/work/zespinosa/Projects/SI-Antarctic/notebooks/run_datatransformer.ipynb#X15sdnNjb2RlLXJlbW90ZQ%3D%3D?line=10'>11</a>\u001b[0m     save_name\u001b[39m=\u001b[39;49m\u001b[39m\"\u001b[39;49m\u001b[39mcesm2_ice_monthly_1950-01_2023-12\u001b[39;49m\u001b[39m\"\u001b[39;49m,\n\u001b[1;32m     <a href='vscode-notebook-cell://ssh-remote%2Bcheyenne.ucar.edu/glade/work/zespinosa/Projects/SI-Antarctic/notebooks/run_datatransformer.ipynb#X15sdnNjb2RlLXJlbW90ZQ%3D%3D?line=11'>12</a>\u001b[0m )\n",
      "\u001b[1;32m/glade/work/zespinosa/Projects/SI-Antarctic/notebooks/run_datatransformer.ipynb Cell 8\u001b[0m line \u001b[0;36mtransform_cesm2_data\u001b[0;34m(ds, save, save_name, testing)\u001b[0m\n\u001b[1;32m      <a href='vscode-notebook-cell://ssh-remote%2Bcheyenne.ucar.edu/glade/work/zespinosa/Projects/SI-Antarctic/notebooks/run_datatransformer.ipynb#X15sdnNjb2RlLXJlbW90ZQ%3D%3D?line=2'>3</a>\u001b[0m ds \u001b[39m=\u001b[39m datatransformer\u001b[39m.\u001b[39mregrid(\n\u001b[1;32m      <a href='vscode-notebook-cell://ssh-remote%2Bcheyenne.ucar.edu/glade/work/zespinosa/Projects/SI-Antarctic/notebooks/run_datatransformer.ipynb#X15sdnNjb2RlLXJlbW90ZQ%3D%3D?line=3'>4</a>\u001b[0m     ds, \n\u001b[1;32m      <a href='vscode-notebook-cell://ssh-remote%2Bcheyenne.ucar.edu/glade/work/zespinosa/Projects/SI-Antarctic/notebooks/run_datatransformer.ipynb#X15sdnNjb2RlLXJlbW90ZQ%3D%3D?line=4'>5</a>\u001b[0m     save\u001b[39m=\u001b[39msave, \n\u001b[1;32m      <a href='vscode-notebook-cell://ssh-remote%2Bcheyenne.ucar.edu/glade/work/zespinosa/Projects/SI-Antarctic/notebooks/run_datatransformer.ipynb#X15sdnNjb2RlLXJlbW90ZQ%3D%3D?line=5'>6</a>\u001b[0m     save_name\u001b[39m=\u001b[39msave_name\n\u001b[1;32m      <a href='vscode-notebook-cell://ssh-remote%2Bcheyenne.ucar.edu/glade/work/zespinosa/Projects/SI-Antarctic/notebooks/run_datatransformer.ipynb#X15sdnNjb2RlLXJlbW90ZQ%3D%3D?line=6'>7</a>\u001b[0m )\n\u001b[1;32m      <a href='vscode-notebook-cell://ssh-remote%2Bcheyenne.ucar.edu/glade/work/zespinosa/Projects/SI-Antarctic/notebooks/run_datatransformer.ipynb#X15sdnNjb2RlLXJlbW90ZQ%3D%3D?line=8'>9</a>\u001b[0m \u001b[39mprint\u001b[39m(\u001b[39m\"\u001b[39m\u001b[39mstarting anomalies and climatology\u001b[39m\u001b[39m\"\u001b[39m)\n\u001b[0;32m---> <a href='vscode-notebook-cell://ssh-remote%2Bcheyenne.ucar.edu/glade/work/zespinosa/Projects/SI-Antarctic/notebooks/run_datatransformer.ipynb#X15sdnNjb2RlLXJlbW90ZQ%3D%3D?line=9'>10</a>\u001b[0m ds_ac \u001b[39m=\u001b[39m datatransformer\u001b[39m.\u001b[39;49mcalculate_anoms_climatology(\n\u001b[1;32m     <a href='vscode-notebook-cell://ssh-remote%2Bcheyenne.ucar.edu/glade/work/zespinosa/Projects/SI-Antarctic/notebooks/run_datatransformer.ipynb#X15sdnNjb2RlLXJlbW90ZQ%3D%3D?line=10'>11</a>\u001b[0m     ds, \n\u001b[1;32m     <a href='vscode-notebook-cell://ssh-remote%2Bcheyenne.ucar.edu/glade/work/zespinosa/Projects/SI-Antarctic/notebooks/run_datatransformer.ipynb#X15sdnNjb2RlLXJlbW90ZQ%3D%3D?line=11'>12</a>\u001b[0m     ref_period\u001b[39m=\u001b[39;49mREF_PERIOD, \n\u001b[1;32m     <a href='vscode-notebook-cell://ssh-remote%2Bcheyenne.ucar.edu/glade/work/zespinosa/Projects/SI-Antarctic/notebooks/run_datatransformer.ipynb#X15sdnNjb2RlLXJlbW90ZQ%3D%3D?line=12'>13</a>\u001b[0m     save\u001b[39m=\u001b[39;49msave, \n\u001b[1;32m     <a href='vscode-notebook-cell://ssh-remote%2Bcheyenne.ucar.edu/glade/work/zespinosa/Projects/SI-Antarctic/notebooks/run_datatransformer.ipynb#X15sdnNjb2RlLXJlbW90ZQ%3D%3D?line=13'>14</a>\u001b[0m     save_name\u001b[39m=\u001b[39;49msave_name\n\u001b[1;32m     <a href='vscode-notebook-cell://ssh-remote%2Bcheyenne.ucar.edu/glade/work/zespinosa/Projects/SI-Antarctic/notebooks/run_datatransformer.ipynb#X15sdnNjb2RlLXJlbW90ZQ%3D%3D?line=14'>15</a>\u001b[0m )\n\u001b[1;32m     <a href='vscode-notebook-cell://ssh-remote%2Bcheyenne.ucar.edu/glade/work/zespinosa/Projects/SI-Antarctic/notebooks/run_datatransformer.ipynb#X15sdnNjb2RlLXJlbW90ZQ%3D%3D?line=16'>17</a>\u001b[0m \u001b[39mprint\u001b[39m(\u001b[39m\"\u001b[39m\u001b[39mstarting trends\u001b[39m\u001b[39m\"\u001b[39m)\n\u001b[1;32m     <a href='vscode-notebook-cell://ssh-remote%2Bcheyenne.ucar.edu/glade/work/zespinosa/Projects/SI-Antarctic/notebooks/run_datatransformer.ipynb#X15sdnNjb2RlLXJlbW90ZQ%3D%3D?line=17'>18</a>\u001b[0m ds_trend \u001b[39m=\u001b[39m datatransformer\u001b[39m.\u001b[39mcalculate_linear_time_trend(\n\u001b[1;32m     <a href='vscode-notebook-cell://ssh-remote%2Bcheyenne.ucar.edu/glade/work/zespinosa/Projects/SI-Antarctic/notebooks/run_datatransformer.ipynb#X15sdnNjb2RlLXJlbW90ZQ%3D%3D?line=18'>19</a>\u001b[0m     ds, \n\u001b[1;32m     <a href='vscode-notebook-cell://ssh-remote%2Bcheyenne.ucar.edu/glade/work/zespinosa/Projects/SI-Antarctic/notebooks/run_datatransformer.ipynb#X15sdnNjb2RlLXJlbW90ZQ%3D%3D?line=19'>20</a>\u001b[0m     save\u001b[39m=\u001b[39msave,\n\u001b[1;32m     <a href='vscode-notebook-cell://ssh-remote%2Bcheyenne.ucar.edu/glade/work/zespinosa/Projects/SI-Antarctic/notebooks/run_datatransformer.ipynb#X15sdnNjb2RlLXJlbW90ZQ%3D%3D?line=20'>21</a>\u001b[0m     save_name\u001b[39m=\u001b[39msave_name\n\u001b[1;32m     <a href='vscode-notebook-cell://ssh-remote%2Bcheyenne.ucar.edu/glade/work/zespinosa/Projects/SI-Antarctic/notebooks/run_datatransformer.ipynb#X15sdnNjb2RlLXJlbW90ZQ%3D%3D?line=21'>22</a>\u001b[0m )\n",
      "File \u001b[0;32m/glade/work/zespinosa/Projects/SI-Antarctic/notebooks/../pipeline/data_transformer.py:130\u001b[0m, in \u001b[0;36mDataTransformer.calculate_anoms_climatology\u001b[0;34m(self, ds, myvars, ref_period, freq, save_name, save)\u001b[0m\n\u001b[1;32m    127\u001b[0m ds_clim, ds_anoms \u001b[39m=\u001b[39m xr\u001b[39m.\u001b[39mDataset(), xr\u001b[39m.\u001b[39mDataset()\n\u001b[1;32m    128\u001b[0m \u001b[39mfor\u001b[39;00m cvar \u001b[39min\u001b[39;00m myvars:\n\u001b[1;32m    129\u001b[0m     \u001b[39m# Calculate anomalies\u001b[39;00m\n\u001b[0;32m--> 130\u001b[0m     ds_anoms[cvar] \u001b[39m=\u001b[39m ds\u001b[39m.\u001b[39;49mtemporal\u001b[39m.\u001b[39;49mdepartures(cvar, freq\u001b[39m=\u001b[39;49mfreq, reference_period\u001b[39m=\u001b[39;49mref_period)[cvar]\n\u001b[1;32m    131\u001b[0m     \u001b[39m# Calculate Climatology\u001b[39;00m\n\u001b[1;32m    132\u001b[0m     ds_clim[cvar] \u001b[39m=\u001b[39m ds\u001b[39m.\u001b[39mtemporal\u001b[39m.\u001b[39mclimatology(cvar, freq\u001b[39m=\u001b[39mfreq, reference_period\u001b[39m=\u001b[39mref_period)[cvar]\n",
      "File \u001b[0;32m/glade/work/zespinosa/conda-envs/cenv/lib/python3.8/site-packages/xcdat/temporal.py:677\u001b[0m, in \u001b[0;36mTemporalAccessor.departures\u001b[0;34m(self, data_var, freq, weighted, keep_weights, reference_period, season_config)\u001b[0m\n\u001b[1;32m    668\u001b[0m \u001b[39mif\u001b[39;00m inferred_freq \u001b[39m!=\u001b[39m freq:\n\u001b[1;32m    669\u001b[0m     ds_obs \u001b[39m=\u001b[39m ds_obs\u001b[39m.\u001b[39mtemporal\u001b[39m.\u001b[39mgroup_average(\n\u001b[1;32m    670\u001b[0m         data_var,\n\u001b[1;32m    671\u001b[0m         freq,\n\u001b[0;32m   (...)\u001b[0m\n\u001b[1;32m    674\u001b[0m         season_config,\n\u001b[1;32m    675\u001b[0m     )\n\u001b[0;32m--> 677\u001b[0m ds_climo \u001b[39m=\u001b[39m ds\u001b[39m.\u001b[39;49mtemporal\u001b[39m.\u001b[39;49mclimatology(\n\u001b[1;32m    678\u001b[0m     data_var,\n\u001b[1;32m    679\u001b[0m     freq,\n\u001b[1;32m    680\u001b[0m     weighted,\n\u001b[1;32m    681\u001b[0m     keep_weights,\n\u001b[1;32m    682\u001b[0m     reference_period,\n\u001b[1;32m    683\u001b[0m     season_config,\n\u001b[1;32m    684\u001b[0m )\n\u001b[1;32m    686\u001b[0m \u001b[39m# 4. Group the averaged data variable values by the time `freq`.\u001b[39;00m\n\u001b[1;32m    687\u001b[0m \u001b[39m# ----------------------------------------------------------------------\u001b[39;00m\n\u001b[1;32m    688\u001b[0m \u001b[39m# This step allows us to perform xarray's grouped arithmetic to\u001b[39;00m\n\u001b[1;32m    689\u001b[0m \u001b[39m# calculate departures.\u001b[39;00m\n\u001b[1;32m    690\u001b[0m dv_obs \u001b[39m=\u001b[39m ds_obs[data_var]\u001b[39m.\u001b[39mcopy()\n",
      "File \u001b[0;32m/glade/work/zespinosa/conda-envs/cenv/lib/python3.8/site-packages/xcdat/temporal.py:496\u001b[0m, in \u001b[0;36mTemporalAccessor.climatology\u001b[0;34m(self, data_var, freq, weighted, keep_weights, reference_period, season_config)\u001b[0m\n\u001b[1;32m    358\u001b[0m \u001b[39m\"\"\"Returns a Dataset with the climatology of a data variable.\u001b[39;00m\n\u001b[1;32m    359\u001b[0m \n\u001b[1;32m    360\u001b[0m \u001b[39mParameters\u001b[39;00m\n\u001b[0;32m   (...)\u001b[0m\n\u001b[1;32m    492\u001b[0m \u001b[39m}\u001b[39;00m\n\u001b[1;32m    493\u001b[0m \u001b[39m\"\"\"\u001b[39;00m\n\u001b[1;32m    494\u001b[0m \u001b[39mself\u001b[39m\u001b[39m.\u001b[39m_set_data_var_attrs(data_var)\n\u001b[0;32m--> 496\u001b[0m \u001b[39mreturn\u001b[39;00m \u001b[39mself\u001b[39;49m\u001b[39m.\u001b[39;49m_averager(\n\u001b[1;32m    497\u001b[0m     data_var,\n\u001b[1;32m    498\u001b[0m     \u001b[39m\"\u001b[39;49m\u001b[39mclimatology\u001b[39;49m\u001b[39m\"\u001b[39;49m,\n\u001b[1;32m    499\u001b[0m     freq,\n\u001b[1;32m    500\u001b[0m     weighted,\n\u001b[1;32m    501\u001b[0m     keep_weights,\n\u001b[1;32m    502\u001b[0m     reference_period,\n\u001b[1;32m    503\u001b[0m     season_config,\n\u001b[1;32m    504\u001b[0m )\n",
      "File \u001b[0;32m/glade/work/zespinosa/conda-envs/cenv/lib/python3.8/site-packages/xcdat/temporal.py:777\u001b[0m, in \u001b[0;36mTemporalAccessor._averager\u001b[0;34m(self, data_var, mode, freq, weighted, keep_weights, reference_period, season_config)\u001b[0m\n\u001b[1;32m    775\u001b[0m     dv \u001b[39m=\u001b[39m \u001b[39mself\u001b[39m\u001b[39m.\u001b[39m_average(dv, time_bounds)\n\u001b[1;32m    776\u001b[0m \u001b[39melif\u001b[39;00m \u001b[39mself\u001b[39m\u001b[39m.\u001b[39m_mode \u001b[39min\u001b[39;00m [\u001b[39m\"\u001b[39m\u001b[39mgroup_average\u001b[39m\u001b[39m\"\u001b[39m, \u001b[39m\"\u001b[39m\u001b[39mclimatology\u001b[39m\u001b[39m\"\u001b[39m, \u001b[39m\"\u001b[39m\u001b[39mdepartures\u001b[39m\u001b[39m\"\u001b[39m]:\n\u001b[0;32m--> 777\u001b[0m     dv \u001b[39m=\u001b[39m \u001b[39mself\u001b[39;49m\u001b[39m.\u001b[39;49m_group_average(dv, time_bounds)\n\u001b[1;32m    779\u001b[0m \u001b[39m# The original time dimension is dropped from the dataset because\u001b[39;00m\n\u001b[1;32m    780\u001b[0m \u001b[39m# it becomes obsolete after the data variable is averaged. When the\u001b[39;00m\n\u001b[1;32m    781\u001b[0m \u001b[39m# averaged data variable is added to the dataset, the new time dimension\u001b[39;00m\n\u001b[1;32m    782\u001b[0m \u001b[39m# and its associated coordinates are also added.\u001b[39;00m\n\u001b[1;32m    783\u001b[0m ds \u001b[39m=\u001b[39m ds\u001b[39m.\u001b[39mdrop_dims(\u001b[39mself\u001b[39m\u001b[39m.\u001b[39mdim)  \u001b[39m# type: ignore\u001b[39;00m\n",
      "File \u001b[0;32m/glade/work/zespinosa/conda-envs/cenv/lib/python3.8/site-packages/xcdat/temporal.py:1141\u001b[0m, in \u001b[0;36mTemporalAccessor._group_average\u001b[0;34m(self, data_var, time_bounds)\u001b[0m\n\u001b[1;32m   1138\u001b[0m \u001b[39mself\u001b[39m\u001b[39m.\u001b[39m_labeled_time \u001b[39m=\u001b[39m \u001b[39mself\u001b[39m\u001b[39m.\u001b[39m_label_time_coords(dv[\u001b[39mself\u001b[39m\u001b[39m.\u001b[39mdim])\n\u001b[1;32m   1140\u001b[0m \u001b[39mif\u001b[39;00m \u001b[39mself\u001b[39m\u001b[39m.\u001b[39m_weighted:\n\u001b[0;32m-> 1141\u001b[0m     \u001b[39mself\u001b[39m\u001b[39m.\u001b[39m_weights \u001b[39m=\u001b[39m \u001b[39mself\u001b[39;49m\u001b[39m.\u001b[39;49m_get_weights(time_bounds)\n\u001b[1;32m   1142\u001b[0m     \u001b[39m# Weight the data variable.\u001b[39;00m\n\u001b[1;32m   1143\u001b[0m     dv \u001b[39m*\u001b[39m\u001b[39m=\u001b[39m \u001b[39mself\u001b[39m\u001b[39m.\u001b[39m_weights\n",
      "File \u001b[0;32m/glade/work/zespinosa/conda-envs/cenv/lib/python3.8/site-packages/xcdat/temporal.py:1229\u001b[0m, in \u001b[0;36mTemporalAccessor._get_weights\u001b[0;34m(self, time_bounds)\u001b[0m\n\u001b[1;32m   1225\u001b[0m     time_lengths\u001b[39m.\u001b[39mload()\n\u001b[1;32m   1227\u001b[0m time_lengths \u001b[39m=\u001b[39m time_lengths\u001b[39m.\u001b[39mastype(np\u001b[39m.\u001b[39mfloat64)\n\u001b[0;32m-> 1229\u001b[0m grouped_time_lengths \u001b[39m=\u001b[39m \u001b[39mself\u001b[39;49m\u001b[39m.\u001b[39;49m_group_data(time_lengths)\n\u001b[1;32m   1230\u001b[0m weights: xr\u001b[39m.\u001b[39mDataArray \u001b[39m=\u001b[39m grouped_time_lengths \u001b[39m/\u001b[39m grouped_time_lengths\u001b[39m.\u001b[39msum()\n\u001b[1;32m   1231\u001b[0m weights\u001b[39m.\u001b[39mname \u001b[39m=\u001b[39m \u001b[39mf\u001b[39m\u001b[39m\"\u001b[39m\u001b[39m{\u001b[39;00m\u001b[39mself\u001b[39m\u001b[39m.\u001b[39mdim\u001b[39m}\u001b[39;00m\u001b[39m_wts\u001b[39m\u001b[39m\"\u001b[39m\n",
      "File \u001b[0;32m/glade/work/zespinosa/conda-envs/cenv/lib/python3.8/site-packages/xcdat/temporal.py:1262\u001b[0m, in \u001b[0;36mTemporalAccessor._group_data\u001b[0;34m(self, data_var)\u001b[0m\n\u001b[1;32m   1260\u001b[0m \u001b[39melse\u001b[39;00m:\n\u001b[1;32m   1261\u001b[0m     dv\u001b[39m.\u001b[39mcoords[\u001b[39mself\u001b[39m\u001b[39m.\u001b[39m_labeled_time\u001b[39m.\u001b[39mname] \u001b[39m=\u001b[39m \u001b[39mself\u001b[39m\u001b[39m.\u001b[39m_labeled_time\n\u001b[0;32m-> 1262\u001b[0m     dv_gb \u001b[39m=\u001b[39m dv\u001b[39m.\u001b[39;49mgroupby(\u001b[39mself\u001b[39;49m\u001b[39m.\u001b[39;49m_labeled_time\u001b[39m.\u001b[39;49mname)\n\u001b[1;32m   1264\u001b[0m \u001b[39mreturn\u001b[39;00m dv_gb\n",
      "File \u001b[0;32m/glade/work/zespinosa/conda-envs/cenv/lib/python3.8/site-packages/xarray/core/dataarray.py:5380\u001b[0m, in \u001b[0;36mDataArray.groupby\u001b[0;34m(self, group, squeeze, restore_coord_dims)\u001b[0m\n\u001b[1;32m   5375\u001b[0m \u001b[39mif\u001b[39;00m \u001b[39mnot\u001b[39;00m \u001b[39misinstance\u001b[39m(squeeze, \u001b[39mbool\u001b[39m):\n\u001b[1;32m   5376\u001b[0m     \u001b[39mraise\u001b[39;00m \u001b[39mTypeError\u001b[39;00m(\n\u001b[1;32m   5377\u001b[0m         \u001b[39mf\u001b[39m\u001b[39m\"\u001b[39m\u001b[39m`squeeze` must be True or False, but \u001b[39m\u001b[39m{\u001b[39;00msqueeze\u001b[39m}\u001b[39;00m\u001b[39m was supplied\u001b[39m\u001b[39m\"\u001b[39m\n\u001b[1;32m   5378\u001b[0m     )\n\u001b[0;32m-> 5380\u001b[0m \u001b[39mreturn\u001b[39;00m DataArrayGroupBy(\n\u001b[1;32m   5381\u001b[0m     \u001b[39mself\u001b[39;49m, group, squeeze\u001b[39m=\u001b[39;49msqueeze, restore_coord_dims\u001b[39m=\u001b[39;49mrestore_coord_dims\n\u001b[1;32m   5382\u001b[0m )\n",
      "File \u001b[0;32m/glade/work/zespinosa/conda-envs/cenv/lib/python3.8/site-packages/xarray/core/groupby.py:370\u001b[0m, in \u001b[0;36mGroupBy.__init__\u001b[0;34m(self, obj, group, squeeze, grouper, bins, restore_coord_dims, cut_kwargs)\u001b[0m\n\u001b[1;32m    368\u001b[0m group \u001b[39m=\u001b[39m obj[group]\n\u001b[1;32m    369\u001b[0m \u001b[39mif\u001b[39;00m \u001b[39mlen\u001b[39m(group) \u001b[39m==\u001b[39m \u001b[39m0\u001b[39m:\n\u001b[0;32m--> 370\u001b[0m     \u001b[39mraise\u001b[39;00m \u001b[39mValueError\u001b[39;00m(\u001b[39mf\u001b[39m\u001b[39m\"\u001b[39m\u001b[39m{\u001b[39;00mgroup\u001b[39m.\u001b[39mname\u001b[39m}\u001b[39;00m\u001b[39m must not be empty\u001b[39m\u001b[39m\"\u001b[39m)\n\u001b[1;32m    372\u001b[0m \u001b[39mif\u001b[39;00m group\u001b[39m.\u001b[39mname \u001b[39mnot\u001b[39;00m \u001b[39min\u001b[39;00m obj\u001b[39m.\u001b[39mcoords \u001b[39mand\u001b[39;00m group\u001b[39m.\u001b[39mname \u001b[39min\u001b[39;00m obj\u001b[39m.\u001b[39mdims:\n\u001b[1;32m    373\u001b[0m     \u001b[39m# DummyGroups should not appear on groupby results\u001b[39;00m\n\u001b[1;32m    374\u001b[0m     group \u001b[39m=\u001b[39m _DummyGroup(obj, group\u001b[39m.\u001b[39mname, group\u001b[39m.\u001b[39mcoords)\n",
      "\u001b[0;31mValueError\u001b[0m: month must not be empty"
     ]
    }
   ],
   "source": [
    "ice_cesm2 = dataloader.get_cesm2_data(\n",
    "    comp=\"ice\",\n",
    "    myvars=[\"aice\", \"daidtt\", \"daidtd\", \"dvidtt\", \"dvidtd\", \"sithick\", \"uvel\", \"vvel\"],\n",
    "    testing=TESTING,\n",
    ")\n",
    "\n",
    "transform_cesm2_data(\n",
    "    ds=ice_cesm2,\n",
    "    save=SAVE,\n",
    "    testing=TESTING,\n",
    "    save_name=\"cesm2_ice_monthly_1950-01_2023-12\",\n",
    ")"
   ]
  },
  {
   "cell_type": "code",
   "execution_count": null,
   "metadata": {},
   "outputs": [],
   "source": [
    "ocn_mxl = dataloader.get_data(comp=\"ocn\", myvars=[\"HMXL\"], testing=testing)\n",
    "transform_cesm2_data(\n",
    "    ds=ocn_mxl,\n",
    "    save=SAVE,\n",
    "    testing=TESTING,\n",
    "    save_name=\"cesm2_ocn-mxl_monthly_1950-01_2023-12\",\n",
    ")"
   ]
  },
  {
   "cell_type": "code",
   "execution_count": null,
   "metadata": {},
   "outputs": [],
   "source": [
    "ocn_sst = dataloader.get_data(comp=\"ocn\", myvars=[\"SST\"], testing=testing)\n",
    "transform_cesm2_data(\n",
    "    ds=ocn_sst,\n",
    "    save=SAVE,\n",
    "    testing=TESTING,\n",
    "    save_name=\"cesm2_ocn-sst_monthly_1950-01_2023-12\",\n",
    ")"
   ]
  },
  {
   "cell_type": "code",
   "execution_count": null,
   "metadata": {},
   "outputs": [],
   "source": [
    "atm_cesm2 = dataloader.get_cesm2_data(\n",
    "    comp=\"atm\", \n",
    "    myvars=[\"PSL\", \"U10\", \"TS\", \"T\", \"U\", \"V\", \"Z3\"], \n",
    "    levels=[1000, 850, 500],\n",
    "    testing=TESTING\n",
    ")\n",
    "transform_cesm2_data(\n",
    "    ds=atm_cesm2,\n",
    "    save=SAVE,\n",
    "    testing=TESTING,\n",
    "    save_name=\"cesm2_atm_monthly_1950-01_2023-12\",\n",
    ")\n"
   ]
  },
  {
   "cell_type": "code",
   "execution_count": null,
   "metadata": {},
   "outputs": [],
   "source": [
    "def transform_cesm2_ice(dataloader, save, save_name, testing):\n",
    "    ice_cesm2 = dataloader.get_cesm2_data(\n",
    "        comp=\"ice\",\n",
    "        myvars=[\"aice\", \"daidtt\", \"daidtd\", \"dvidtt\", \"dvidtd\", \"sithick\", \"uvel\", \"vvel\"],\n",
    "        testing=testing\n",
    "    )\n",
    "\n",
    "    print(\"starting regrid\")\n",
    "    ice_cesm2 = dataloader.regrid(\n",
    "        ice_cesm2, \n",
    "        save=save, \n",
    "        save_name=save_name\n",
    "    )\n",
    "\n",
    "    print(\"starting anomalies and climatology\")\n",
    "    ice_cesm2_ac = dataloader.calculate_anoms_climatology(\n",
    "        ice_cesm2, \n",
    "        ref_period=REF_PERIOD, \n",
    "        save=save, \n",
    "        save_name=save_name\n",
    "    )\n",
    "\n",
    "    print(\"starting trends\")\n",
    "    ice_cesm2_trend = dataloader.calculate_linear_time_trend(\n",
    "        ice_cesm2, \n",
    "        save=save,\n",
    "        save_name=save_name\n",
    "    )\n"
   ]
  },
  {
   "cell_type": "code",
   "execution_count": null,
   "metadata": {},
   "outputs": [],
   "source": [
    "def transform_cesm2_ocn_mxl(dataloader, save, save_name, testing):\n",
    "    ocn_mxl = dataloader.get_data(comp=\"ocn\", myvars=[\"HMXL\"], testing=testing)\n",
    "\n",
    "    print(\"starting regrid\")\n",
    "    ocn_mxl = dataloader.regrid(\n",
    "        ocn_mxl,  \n",
    "        save=save, \n",
    "        save_name=save_name\n",
    "    )\n",
    "\n",
    "    print(\"starting anomalies and climatology\") \n",
    "    ocn_mxl_ac = dataloader.calculate_anoms_climatology(\n",
    "        ocn_mxl, \n",
    "        ref_period=REF_PERIOD, \n",
    "        save=save, \n",
    "        save_name=save_name\n",
    "    )\n",
    "    print(\"starting trends\")\n",
    "    ocn_mxl_trends = dataloader.calculate_linear_time_trend(\n",
    "        ocn_mxl,\n",
    "        save=save, \n",
    "        save_name=save_name\n",
    "    )\n"
   ]
  },
  {
   "cell_type": "code",
   "execution_count": null,
   "metadata": {},
   "outputs": [],
   "source": [
    "def transform_cesm2_ocn_sst(dataloader, save, save_name, testing):\n",
    "    ocn_sst = dataloader.get_data(comp=\"ocn\", myvars=[\"SST\"], testing=testing)\n",
    "\n",
    "    print(\"starting regrid\")\n",
    "    ocn_sst = dataloader.regrid(\n",
    "        ocn_sst,  \n",
    "        save=save, \n",
    "        save_name=save_name\n",
    "        )\n",
    "\n",
    "    print(\"starting anomalies and climatology\") \n",
    "    ocn_sst_ac = dataloader.calculate_anoms_climatology(\n",
    "        ocn_sst, \n",
    "        ref_period=REF_PERIOD, \n",
    "        save=save, \n",
    "        save_name=save_name\n",
    "    )\n",
    "    \n",
    "    print(\"starting trends\")\n",
    "    ocn_sst_trends = dataloader.calculate_linear_time_trend(\n",
    "        ocn_sst,\n",
    "        save=save, \n",
    "        save_name=save_name\n",
    "    )"
   ]
  },
  {
   "cell_type": "code",
   "execution_count": null,
   "metadata": {},
   "outputs": [],
   "source": [
    "def transform_cesm2_atm(dataloader, save, save_name, testing):\n",
    "    atm_cesm2 = dataloader.get_cesm2_data(\n",
    "        comp=\"atm\", \n",
    "        myvars=[\"PSL\", \"U10\", \"TS\", \"T\", \"U\", \"V\", \"Z3\"], \n",
    "        levels=[1000, 850, 500],\n",
    "        testing=testing\n",
    "    )\n",
    "\n",
    "    print(\"starting regrid\")\n",
    "    atm_cesm2 = dataloader.regrid(\n",
    "        atm_cesm2, \n",
    "        save=save, \n",
    "        save_name=save_name\n",
    "    )\n",
    "\n",
    "    print(\"starting anomalies and climatology\")\n",
    "    atm_cesm2_ac = dataloader.calculate_anoms_climatology(\n",
    "        atm_cesm2, \n",
    "        ref_period=REF_PERIOD, \n",
    "        save=save, \n",
    "        save_name=save_name\n",
    "    )\n",
    "\n",
    "    print(\"starting trends\")\n",
    "    atm_cesm2_trends = dataloader.calculate_linear_time_trend(\n",
    "        atm_cesm2,\n",
    "        save=save, \n",
    "        save_name=save_name\n",
    "    )"
   ]
  }
 ],
 "metadata": {
  "kernelspec": {
   "display_name": "Python 3",
   "language": "python",
   "name": "python3"
  },
  "language_info": {
   "codemirror_mode": {
    "name": "ipython",
    "version": 3
   },
   "file_extension": ".py",
   "mimetype": "text/x-python",
   "name": "python",
   "nbconvert_exporter": "python",
   "pygments_lexer": "ipython3",
   "version": "3.8.13"
  }
 },
 "nbformat": 4,
 "nbformat_minor": 2
}
